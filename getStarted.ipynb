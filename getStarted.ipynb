{
 "cells": [
  {
   "cell_type": "markdown",
   "metadata": {},
   "source": [
    "# O. Before using platform \n",
    "\n",
    "**Move this file out of the folder repository.**\n",
    "\n",
    "-> You will have secret token in this file"
   ]
  },
  {
   "cell_type": "code",
   "execution_count": 6,
   "metadata": {},
   "outputs": [
    {
     "name": "stdout",
     "output_type": "stream",
     "text": [
      "Defaulting to user installation because normal site-packages is not writeable\n",
      "Requirement already satisfied: scikit-learn in /Users/hugophilipp/Library/Python/3.9/lib/python/site-packages (1.0)\n",
      "Requirement already satisfied: joblib>=0.11 in /Users/hugophilipp/Library/Python/3.9/lib/python/site-packages (from scikit-learn) (1.2.0)\n",
      "Requirement already satisfied: scipy>=1.1.0 in /Users/hugophilipp/Library/Python/3.9/lib/python/site-packages (from scikit-learn) (1.7.0)\n",
      "Requirement already satisfied: threadpoolctl>=2.0.0 in /Users/hugophilipp/Library/Python/3.9/lib/python/site-packages (from scikit-learn) (3.1.0)\n",
      "Requirement already satisfied: numpy>=1.14.6 in /Users/hugophilipp/Library/Python/3.9/lib/python/site-packages (from scikit-learn) (1.21.2)\n",
      "Defaulting to user installation because normal site-packages is not writeable\n",
      "Collecting craft_ai_sdk\n",
      "  Using cached craft_ai_sdk-0.8.0-py3-none-any.whl (254 kB)\n",
      "Collecting python-dotenv<0.21.0,>=0.20.0\n",
      "  Using cached python_dotenv-0.20.0-py3-none-any.whl (17 kB)\n",
      "Requirement already satisfied: requests<3.0.0,>=2.27.1 in /Users/hugophilipp/Library/Python/3.9/lib/python/site-packages (from craft_ai_sdk) (2.28.1)\n",
      "Collecting PyJWT<3.0.0,>=2.3.0\n",
      "  Using cached PyJWT-2.6.0-py3-none-any.whl (20 kB)\n",
      "Requirement already satisfied: certifi>=2017.4.17 in /Users/hugophilipp/Library/Python/3.9/lib/python/site-packages (from requests<3.0.0,>=2.27.1->craft_ai_sdk) (2022.9.24)\n",
      "Requirement already satisfied: charset-normalizer<3,>=2 in /Users/hugophilipp/Library/Python/3.9/lib/python/site-packages (from requests<3.0.0,>=2.27.1->craft_ai_sdk) (2.1.1)\n",
      "Requirement already satisfied: idna<4,>=2.5 in /Users/hugophilipp/Library/Python/3.9/lib/python/site-packages (from requests<3.0.0,>=2.27.1->craft_ai_sdk) (3.4)\n",
      "Requirement already satisfied: urllib3<1.27,>=1.21.1 in /Users/hugophilipp/Library/Python/3.9/lib/python/site-packages (from requests<3.0.0,>=2.27.1->craft_ai_sdk) (1.26.12)\n",
      "Installing collected packages: python-dotenv, PyJWT, craft_ai_sdk\n",
      "\u001b[33m  WARNING: The script dotenv is installed in '/Users/hugophilipp/Library/Python/3.9/bin' which is not on PATH.\n",
      "  Consider adding this directory to PATH or, if you prefer to suppress this warning, use --no-warn-script-location.\u001b[0m\u001b[33m\n",
      "\u001b[0m\u001b[33m  WARNING: The scripts bump-version, format, lint, pdfdoc, reformat, test, test-base, test-platform and update-local-test-user are installed in '/Users/hugophilipp/Library/Python/3.9/bin' which is not on PATH.\n",
      "  Consider adding this directory to PATH or, if you prefer to suppress this warning, use --no-warn-script-location.\u001b[0m\u001b[33m\n",
      "\u001b[0mSuccessfully installed PyJWT-2.6.0 craft_ai_sdk-0.8.0 python-dotenv-0.20.0\n",
      "Defaulting to user installation because normal site-packages is not writeable\n",
      "Requirement already satisfied: numpy in /Users/hugophilipp/Library/Python/3.9/lib/python/site-packages (1.21.2)\n"
     ]
    }
   ],
   "source": [
    "! pip3 install scikit-learn\n",
    "! pip3 install craft_ai_sdk\n",
    "! pip3 install numpy"
   ]
  },
  {
   "cell_type": "code",
   "execution_count": 7,
   "metadata": {},
   "outputs": [
    {
     "ename": "ImportError",
     "evalue": "cannot import name 'StepDependency' from 'craft_ai_sdk' (/Users/hugophilipp/Library/Python/3.9/lib/python/site-packages/craft_ai_sdk/__init__.py)",
     "output_type": "error",
     "traceback": [
      "\u001b[0;31m---------------------------------------------------------------------------\u001b[0m",
      "\u001b[0;31mImportError\u001b[0m                               Traceback (most recent call last)",
      "Cell \u001b[0;32mIn[7], line 2\u001b[0m\n\u001b[1;32m      1\u001b[0m \u001b[39mfrom\u001b[39;00m \u001b[39mcraft_ai_sdk\u001b[39;00m \u001b[39mimport\u001b[39;00m CraftAiSdk\n\u001b[0;32m----> 2\u001b[0m \u001b[39mfrom\u001b[39;00m \u001b[39mcraft_ai_sdk\u001b[39;00m \u001b[39mimport\u001b[39;00m StepDependency\n\u001b[1;32m      3\u001b[0m \u001b[39mfrom\u001b[39;00m \u001b[39msklearn\u001b[39;00m \u001b[39mimport\u001b[39;00m datasets\n\u001b[1;32m      4\u001b[0m \u001b[39mimport\u001b[39;00m \u001b[39mnumpy\u001b[39;00m\n",
      "\u001b[0;31mImportError\u001b[0m: cannot import name 'StepDependency' from 'craft_ai_sdk' (/Users/hugophilipp/Library/Python/3.9/lib/python/site-packages/craft_ai_sdk/__init__.py)"
     ]
    }
   ],
   "source": [
    "from craft_ai_sdk import CraftAiSdk\n",
    "from craft_ai_sdk import StepDependency\n",
    "from sklearn import datasets\n",
    "import numpy"
   ]
  },
  {
   "cell_type": "markdown",
   "metadata": {},
   "source": [
    "# 1. Setup\n",
    "## a. Connecect to platform with SDK python "
   ]
  },
  {
   "cell_type": "code",
   "execution_count": null,
   "metadata": {},
   "outputs": [],
   "source": [
    "sdk = CraftAiSdk(sdk_token=\"*SDK_token_get_on_platform*\", environment_url=\"https://orchestrator1-platform.craft.ai\")"
   ]
  },
  {
   "cell_type": "markdown",
   "metadata": {},
   "source": [
    "# 2. First step & pipeline\n",
    "## a. Create a step (with reading the private key file)"
   ]
  },
  {
   "cell_type": "code",
   "execution_count": null,
   "metadata": {},
   "outputs": [],
   "source": [
    "# If your private key is saved in a file, you need to open it like so in Python\n",
    "with open('~/keyAccesPlatformCraftAI', 'r') as file:\n",
    "     private_key_value = file.read().rstrip()\n",
    "\n",
    "\n",
    "sdk.create_step(function_path=\"./1_simple_step/iris_ml_platform.py\",\n",
    "\tfunction_name=\"entryStepIris\", \n",
    "\tstep_name=\"irisClassifier\",\n",
    "\tdescription=\"this function create a classifier model for iris and make prediction on test data set\",\n",
    "\tcode_config = { \"repo_url\": \"https://github.com/*GitHub_user*/*repository_name*.git\",\n",
    "\t\t\"private_key\": private_key_value\n",
    "\t}\n",
    ")"
   ]
  },
  {
   "cell_type": "markdown",
   "metadata": {},
   "source": [
    "## b. Create pipeline"
   ]
  },
  {
   "cell_type": "code",
   "execution_count": null,
   "metadata": {},
   "outputs": [],
   "source": [
    "sdk.create_pipeline(pipeline_name=\"irisClassifier-pipeline\", step_name=\"irisClassifier\")"
   ]
  },
  {
   "cell_type": "markdown",
   "metadata": {},
   "source": [
    "## c. Exec pipline"
   ]
  },
  {
   "cell_type": "code",
   "execution_count": null,
   "metadata": {},
   "outputs": [],
   "source": [
    "sdk.execute_pipeline(pipeline_name=\"irisClassifier-pipeline\")"
   ]
  },
  {
   "cell_type": "markdown",
   "metadata": {},
   "source": [
    "## d. Get pipeline exec"
   ]
  },
  {
   "cell_type": "code",
   "execution_count": null,
   "metadata": {},
   "outputs": [],
   "source": [
    "sdk.get_pipeline_execution(pipeline_name=\"irisClassifier-pipeline\", execution_id=\"*execution-id*\")"
   ]
  },
  {
   "cell_type": "code",
   "execution_count": null,
   "metadata": {},
   "outputs": [],
   "source": [
    "sdk.get_pipeline_execution(pipeline_name=\"irisClassifier-pipeline\", execution_id=\"*execution-id*\")"
   ]
  },
  {
   "cell_type": "markdown",
   "metadata": {},
   "source": [
    "# 3. First deployment\n",
    "## a. Create (new) step and (new) pipeline"
   ]
  },
  {
   "cell_type": "code",
   "execution_count": null,
   "metadata": {},
   "outputs": [],
   "source": [
    "# If your private key is saved in a file, you need to open it like so in Python\n",
    "with open('~/keyAccesPlatformCraftAI', 'r') as file:\n",
    "     private_key_value = file.read().rstrip()\n",
    "\n",
    "\n",
    "sdk.create_step(function_path=\"./2_endpoint/iris_ml_platform.py\",\n",
    "\tfunction_name=\"entryStepIris\", \n",
    "\tstep_name=\"irisClassifier\",\n",
    "\tdescription=\"this function create a classifier model for iris and make prediction on test data set\",\n",
    "\tcode_config = { \"repo_url\": \"https://github.com/*GitHub_user*/*repository_name*.git\",\n",
    "\t\t\"private_key\": private_key_value\n",
    "\t}\n",
    ")\n",
    "\n",
    "sdk.create_pipeline(pipeline_name=\"irisClassifier-pipeline\", step_name=\"irisClassifier\")"
   ]
  },
  {
   "cell_type": "markdown",
   "metadata": {},
   "source": [
    "## b. Create endpoint"
   ]
  },
  {
   "cell_type": "code",
   "execution_count": null,
   "metadata": {},
   "outputs": [],
   "source": [
    "pipeline = sdk.create_pipeline(\n",
    "    name=\"my_pipeline\",\n",
    "\tsteps=[StepDependency(step_name=\"apply_model\")],\n",
    "    description=\"optional description here\",\n",
    ")"
   ]
  },
  {
   "cell_type": "markdown",
   "metadata": {},
   "source": [
    "## c. Upload data store "
   ]
  },
  {
   "cell_type": "code",
   "execution_count": 8,
   "metadata": {},
   "outputs": [],
   "source": [
    "iris_X, iris_y = datasets.load_iris(return_X_y=True)\n",
    "\n",
    "a = numpy.asarray(iris_X)\n",
    "numpy.savetxt(\"irisX.csv\", a, delimiter=\",\")\n",
    "\n",
    "b = numpy.asarray(iris_y)\n",
    "numpy.savetxt(\"irisY.csv\", b, delimiter=\",\")\n",
    "\n",
    "\n",
    "sdk.upload_data_store_object(\n",
    "\tfilepath_or_buffer=\"./irisX.csv\", \n",
    "\tobject_path_in_datastore=\"get_started/irisX.csv\"\n",
    ")\n",
    "\n",
    "sdk.upload_data_store_object(\n",
    "\tfilepath_or_buffer=\"./irisY.csv\", \n",
    "\tobject_path_in_datastore=\"get_started/irisY.csv\"\n",
    ")"
   ]
  },
  {
   "cell_type": "markdown",
   "metadata": {},
   "source": [
    "## d. Manual deploy "
   ]
  },
  {
   "cell_type": "code",
   "execution_count": null,
   "metadata": {},
   "outputs": [],
   "source": [
    "# ???"
   ]
  }
 ],
 "metadata": {
  "kernelspec": {
   "display_name": "Python 3.9.6 64-bit",
   "language": "python",
   "name": "python3"
  },
  "language_info": {
   "codemirror_mode": {
    "name": "ipython",
    "version": 3
   },
   "file_extension": ".py",
   "mimetype": "text/x-python",
   "name": "python",
   "nbconvert_exporter": "python",
   "pygments_lexer": "ipython3",
   "version": "3.9.6"
  },
  "orig_nbformat": 4,
  "vscode": {
   "interpreter": {
    "hash": "31f2aee4e71d21fbe5cf8b01ff0e069b9275f58929596ceb00d14d90e3e16cd6"
   }
  }
 },
 "nbformat": 4,
 "nbformat_minor": 2
}
