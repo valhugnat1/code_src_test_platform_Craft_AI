{
 "cells": [
  {
   "cell_type": "markdown",
   "metadata": {},
   "source": [
    "# O. Before using platform \n",
    "\n",
    "**Move this file out of the folder repository.**\n",
    "\n",
    "-> You will have secret token in this file"
   ]
  },
  {
   "cell_type": "code",
   "execution_count": 7,
   "metadata": {},
   "outputs": [
    {
     "name": "stdout",
     "output_type": "stream",
     "text": [
      "Defaulting to user installation because normal site-packages is not writeable\n",
      "Collecting scikit-learn\n",
      "  Downloading scikit_learn-1.2.0-cp39-cp39-macosx_10_9_x86_64.whl (9.1 MB)\n",
      "\u001b[2K     \u001b[90m━━━━━━━━━━━━━━━━━━━━━━━━━━━━━━━━━━━━━━━━\u001b[0m \u001b[32m9.1/9.1 MB\u001b[0m \u001b[31m4.4 MB/s\u001b[0m eta \u001b[36m0:00:00\u001b[0m00:01\u001b[0m00:01\u001b[0m\n",
      "\u001b[?25hCollecting joblib>=1.1.1\n",
      "  Using cached joblib-1.2.0-py3-none-any.whl (297 kB)\n",
      "Collecting threadpoolctl>=2.0.0\n",
      "  Using cached threadpoolctl-3.1.0-py3-none-any.whl (14 kB)\n",
      "Collecting numpy>=1.17.3\n",
      "  Downloading numpy-1.23.5-cp39-cp39-macosx_10_9_x86_64.whl (18.1 MB)\n",
      "\u001b[2K     \u001b[90m━━━━━━━━━━━━━━━━━━━━━━━━━━━━━━━━━━━━━━━━\u001b[0m \u001b[32m18.1/18.1 MB\u001b[0m \u001b[31m2.6 MB/s\u001b[0m eta \u001b[36m0:00:00\u001b[0m00:01\u001b[0m00:01\u001b[0m\n",
      "\u001b[?25hCollecting scipy>=1.3.2\n",
      "  Downloading scipy-1.9.3-cp39-cp39-macosx_10_9_x86_64.whl (34.3 MB)\n",
      "\u001b[2K     \u001b[90m━━━━━━━━━━━━━━━━━━━━━━━━━━━━━━━━━━━━━━━━\u001b[0m \u001b[32m34.3/34.3 MB\u001b[0m \u001b[31m3.7 MB/s\u001b[0m eta \u001b[36m0:00:00\u001b[0m00:01\u001b[0m00:01\u001b[0m\n",
      "\u001b[?25hInstalling collected packages: threadpoolctl, numpy, joblib, scipy, scikit-learn\n",
      "\u001b[33m  WARNING: The scripts f2py, f2py3 and f2py3.9 are installed in '/Users/hugophilipp/Library/Python/3.9/bin' which is not on PATH.\n",
      "  Consider adding this directory to PATH or, if you prefer to suppress this warning, use --no-warn-script-location.\u001b[0m\u001b[33m\n",
      "\u001b[0mSuccessfully installed joblib-1.2.0 numpy-1.23.5 scikit-learn-1.2.0 scipy-1.9.3 threadpoolctl-3.1.0\n",
      "\n",
      "\u001b[1m[\u001b[0m\u001b[34;49mnotice\u001b[0m\u001b[1;39;49m]\u001b[0m\u001b[39;49m A new release of pip available: \u001b[0m\u001b[31;49m22.2.2\u001b[0m\u001b[39;49m -> \u001b[0m\u001b[32;49m22.3.1\u001b[0m\n",
      "\u001b[1m[\u001b[0m\u001b[34;49mnotice\u001b[0m\u001b[1;39;49m]\u001b[0m\u001b[39;49m To update, run: \u001b[0m\u001b[32;49m/Library/Developer/CommandLineTools/usr/bin/python3 -m pip install --upgrade pip\u001b[0m\n"
     ]
    }
   ],
   "source": [
    "! pip3 install scikit-learn\n",
    "! pip3 install CraftAiSdk"
   ]
  },
  {
   "cell_type": "markdown",
   "metadata": {},
   "source": [
    "# 1. Setup\n",
    "## a. Connecect to platform with SDK python "
   ]
  },
  {
   "cell_type": "code",
   "execution_count": null,
   "metadata": {},
   "outputs": [],
   "source": [
    "from craft_ai_sdk import CraftAiSdk\n",
    "\n",
    "sdk = CraftAiSdk(sdk_token=\"*SDK_token_get_on_platform*\", environment_url=\"https://orchestrator1-platform.craft.ai\")"
   ]
  },
  {
   "cell_type": "markdown",
   "metadata": {},
   "source": [
    "# 2. First step & pipeline\n",
    "## a. Create a step (with reading the private key file)"
   ]
  },
  {
   "cell_type": "code",
   "execution_count": null,
   "metadata": {},
   "outputs": [],
   "source": [
    "# If your private key is saved in a file, you need to open it like so in Python\n",
    "with open('~/keyAccesPlatformCraftAI', 'r') as file:\n",
    "     private_key_value = file.read().rstrip()\n",
    "\n",
    "\n",
    "sdk.create_step(function_path=\"./1_simple_step/iris_ml_platform.py\",\n",
    "\tfunction_name=\"entryStepIris\", \n",
    "\tstep_name=\"irisClassifier\",\n",
    "\tdescription=\"this function create a classifier model for iris and make prediction on test data set\",\n",
    "\tcode_config = { \"repo_url\": \"https://github.com/*GitHub_user*/*repository_name*.git\",\n",
    "\t\t\"private_key\": private_key_value\n",
    "\t}\n",
    ")"
   ]
  },
  {
   "cell_type": "markdown",
   "metadata": {},
   "source": [
    "## b. Create pipeline"
   ]
  },
  {
   "cell_type": "code",
   "execution_count": null,
   "metadata": {},
   "outputs": [],
   "source": [
    "sdk.create_pipeline(pipeline_name=\"irisClassifier-pipeline\", step_name=\"irisClassifier\")"
   ]
  },
  {
   "cell_type": "markdown",
   "metadata": {},
   "source": [
    "## c. Exec pipline"
   ]
  },
  {
   "cell_type": "code",
   "execution_count": null,
   "metadata": {},
   "outputs": [],
   "source": [
    "sdk.execute_pipeline(pipeline_name=\"irisClassifier-pipeline\")"
   ]
  },
  {
   "cell_type": "markdown",
   "metadata": {},
   "source": [
    "## d. Get pipeline exec"
   ]
  },
  {
   "cell_type": "code",
   "execution_count": null,
   "metadata": {},
   "outputs": [],
   "source": [
    "sdk.get_pipeline_execution(pipeline_name=\"irisClassifier-pipeline\", execution_id=\"*execution-id*\")"
   ]
  },
  {
   "cell_type": "code",
   "execution_count": null,
   "metadata": {},
   "outputs": [],
   "source": [
    "sdk.get_pipeline_execution(pipeline_name=\"irisClassifier-pipeline\", execution_id=\"*execution-id*\")"
   ]
  },
  {
   "cell_type": "markdown",
   "metadata": {},
   "source": [
    "# 3. First deployment\n",
    "## a. Create (new) step and (new) pipeline"
   ]
  },
  {
   "cell_type": "code",
   "execution_count": null,
   "metadata": {},
   "outputs": [],
   "source": [
    "# If your private key is saved in a file, you need to open it like so in Python\n",
    "with open('~/keyAccesPlatformCraftAI', 'r') as file:\n",
    "     private_key_value = file.read().rstrip()\n",
    "\n",
    "\n",
    "sdk.create_step(function_path=\"./2_endpoint/iris_ml_platform.py\",\n",
    "\tfunction_name=\"entryStepIris\", \n",
    "\tstep_name=\"irisClassifier\",\n",
    "\tdescription=\"this function create a classifier model for iris and make prediction on test data set\",\n",
    "\tcode_config = { \"repo_url\": \"https://github.com/*GitHub_user*/*repository_name*.git\",\n",
    "\t\t\"private_key\": private_key_value\n",
    "\t}\n",
    ")\n",
    "\n",
    "sdk.create_pipeline(pipeline_name=\"irisClassifier-pipeline\", step_name=\"irisClassifier\")"
   ]
  },
  {
   "cell_type": "markdown",
   "metadata": {},
   "source": [
    "## b. Create endpoint"
   ]
  },
  {
   "cell_type": "code",
   "execution_count": null,
   "metadata": {},
   "outputs": [],
   "source": [
    "from craft_ai_sdk import StepDependency\n",
    "\n",
    "pipeline = sdk.create_pipeline(\n",
    "    name=\"my_pipeline\",\n",
    "\tsteps=[StepDependency(step_name=\"apply_model\")],\n",
    "    description=\"optional description here\",\n",
    ")"
   ]
  },
  {
   "cell_type": "markdown",
   "metadata": {},
   "source": [
    "## c. Upload data store "
   ]
  },
  {
   "cell_type": "code",
   "execution_count": 8,
   "metadata": {},
   "outputs": [],
   "source": [
    "from sklearn import datasets\n",
    "import numpy\n",
    "\n",
    "iris_X, iris_y = datasets.load_iris(return_X_y=True)\n",
    "\n",
    "a = numpy.asarray(iris_X)\n",
    "numpy.savetxt(\"irisX.csv\", a, delimiter=\",\")\n",
    "\n",
    "b = numpy.asarray(iris_y)\n",
    "numpy.savetxt(\"irisY.csv\", b, delimiter=\",\")\n",
    "\n",
    "\n",
    "sdk.upload_data_store_object(\n",
    "\tfilepath_or_buffer=\"./irisX.csv\", \n",
    "\tobject_path_in_datastore=\"get_started/irisX.csv\"\n",
    ")\n",
    "\n",
    "sdk.upload_data_store_object(\n",
    "\tfilepath_or_buffer=\"./irisY.csv\", \n",
    "\tobject_path_in_datastore=\"get_started/irisY.csv\"\n",
    ")"
   ]
  },
  {
   "cell_type": "markdown",
   "metadata": {},
   "source": [
    "## d. Manual deploy "
   ]
  },
  {
   "cell_type": "code",
   "execution_count": null,
   "metadata": {},
   "outputs": [],
   "source": [
    "# ???"
   ]
  }
 ],
 "metadata": {
  "kernelspec": {
   "display_name": "Python 3.9.6 64-bit",
   "language": "python",
   "name": "python3"
  },
  "language_info": {
   "codemirror_mode": {
    "name": "ipython",
    "version": 3
   },
   "file_extension": ".py",
   "mimetype": "text/x-python",
   "name": "python",
   "nbconvert_exporter": "python",
   "pygments_lexer": "ipython3",
   "version": "3.9.6"
  },
  "orig_nbformat": 4,
  "vscode": {
   "interpreter": {
    "hash": "31f2aee4e71d21fbe5cf8b01ff0e069b9275f58929596ceb00d14d90e3e16cd6"
   }
  }
 },
 "nbformat": 4,
 "nbformat_minor": 2
}
